{
 "cells": [
  {
   "cell_type": "code",
   "execution_count": null,
   "metadata": {},
   "outputs": [],
   "source": [
    "import torch \n",
    "\n",
    "from segment_anything import (\n",
    "    sam_model_registry,\n",
    "    our_vit\n",
    ")"
   ]
  },
  {
   "cell_type": "code",
   "execution_count": null,
   "metadata": {},
   "outputs": [],
   "source": [
    "\"\"\"\n",
    "Load LVM-Med as SAM's encoder\n",
    "\"\"\"\n",
    "lvm_med_encoder_path = \"/home/tannp/MedSAM_original/vit_b_largescale_dim256.pth\"\n",
    "arch = 'vit_encoder_b'\n",
    "lvm_med_backbone = our_vit.__dict__[arch]()\n",
    "lvm_weight = torch.load(lvm_med_encoder_path, map_location ='cpu')\n",
    "lvm_med_backbone.load_state_dict(lvm_weight)"
   ]
  },
  {
   "cell_type": "code",
   "execution_count": null,
   "metadata": {},
   "outputs": [],
   "source": [
    "\"\"\"\n",
    "Load SAM with its original checkpoint \n",
    "\"\"\"\n",
    "sam_model = sam_model_registry[\"vit_b\"](checkpoint='/home/tannp/ICML_workshop/work_dir/SAM/sam_vit_b_01ec64.pth')"
   ]
  },
  {
   "cell_type": "code",
   "execution_count": null,
   "metadata": {},
   "outputs": [],
   "source": []
  }
 ],
 "metadata": {
  "language_info": {
   "name": "python"
  },
  "orig_nbformat": 4
 },
 "nbformat": 4,
 "nbformat_minor": 2
}
